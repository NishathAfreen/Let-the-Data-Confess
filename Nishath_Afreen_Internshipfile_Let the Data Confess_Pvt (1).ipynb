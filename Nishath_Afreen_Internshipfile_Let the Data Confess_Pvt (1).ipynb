{
 "cells": [
  {
   "cell_type": "code",
   "execution_count": 1,
   "id": "71bd05ec",
   "metadata": {},
   "outputs": [],
   "source": [
    "import pandas as pd\n",
    "import numpy as np\n",
    "import warnings\n",
    "warnings.filterwarnings('ignore')"
   ]
  },
  {
   "cell_type": "code",
   "execution_count": 2,
   "id": "6a3b7b4b",
   "metadata": {},
   "outputs": [],
   "source": [
    "data=pd.read_csv(r'C:\\Users\\LENOVO\\Desktop\\googleplaystore.csv')"
   ]
  },
  {
   "cell_type": "code",
   "execution_count": 3,
   "id": "3249facc",
   "metadata": {
    "scrolled": false
   },
   "outputs": [
    {
     "name": "stdout",
     "output_type": "stream",
     "text": [
      "<class 'pandas.core.frame.DataFrame'>\n",
      "RangeIndex: 10841 entries, 0 to 10840\n",
      "Data columns (total 13 columns):\n",
      " #   Column          Non-Null Count  Dtype  \n",
      "---  ------          --------------  -----  \n",
      " 0   App             10841 non-null  object \n",
      " 1   Category        10841 non-null  object \n",
      " 2   Rating          9367 non-null   float64\n",
      " 3   Reviews         10841 non-null  object \n",
      " 4   Size            10841 non-null  object \n",
      " 5   Installs        10841 non-null  object \n",
      " 6   Type            10840 non-null  object \n",
      " 7   Price           10841 non-null  object \n",
      " 8   Content Rating  10840 non-null  object \n",
      " 9   Genres          10841 non-null  object \n",
      " 10  Last Updated    10841 non-null  object \n",
      " 11  Current Ver     10833 non-null  object \n",
      " 12  Android Ver     10838 non-null  object \n",
      "dtypes: float64(1), object(12)\n",
      "memory usage: 1.1+ MB\n"
     ]
    }
   ],
   "source": [
    "data.info()"
   ]
  },
  {
   "cell_type": "code",
   "execution_count": 4,
   "id": "694de3a2",
   "metadata": {},
   "outputs": [
    {
     "data": {
      "text/html": [
       "<div>\n",
       "<style scoped>\n",
       "    .dataframe tbody tr th:only-of-type {\n",
       "        vertical-align: middle;\n",
       "    }\n",
       "\n",
       "    .dataframe tbody tr th {\n",
       "        vertical-align: top;\n",
       "    }\n",
       "\n",
       "    .dataframe thead th {\n",
       "        text-align: right;\n",
       "    }\n",
       "</style>\n",
       "<table border=\"1\" class=\"dataframe\">\n",
       "  <thead>\n",
       "    <tr style=\"text-align: right;\">\n",
       "      <th></th>\n",
       "      <th>App</th>\n",
       "      <th>Category</th>\n",
       "      <th>Rating</th>\n",
       "      <th>Reviews</th>\n",
       "      <th>Size</th>\n",
       "      <th>Installs</th>\n",
       "      <th>Type</th>\n",
       "      <th>Price</th>\n",
       "      <th>Content Rating</th>\n",
       "      <th>Genres</th>\n",
       "      <th>Last Updated</th>\n",
       "      <th>Current Ver</th>\n",
       "      <th>Android Ver</th>\n",
       "    </tr>\n",
       "  </thead>\n",
       "  <tbody>\n",
       "    <tr>\n",
       "      <th>0</th>\n",
       "      <td>Photo Editor &amp; Candy Camera &amp; Grid &amp; ScrapBook</td>\n",
       "      <td>ART_AND_DESIGN</td>\n",
       "      <td>4.1</td>\n",
       "      <td>159</td>\n",
       "      <td>19M</td>\n",
       "      <td>10,000+</td>\n",
       "      <td>Free</td>\n",
       "      <td>0</td>\n",
       "      <td>Everyone</td>\n",
       "      <td>Art &amp; Design</td>\n",
       "      <td>January 7, 2018</td>\n",
       "      <td>1.0.0</td>\n",
       "      <td>4.0.3 and up</td>\n",
       "    </tr>\n",
       "    <tr>\n",
       "      <th>1</th>\n",
       "      <td>Coloring book moana</td>\n",
       "      <td>ART_AND_DESIGN</td>\n",
       "      <td>3.9</td>\n",
       "      <td>967</td>\n",
       "      <td>14M</td>\n",
       "      <td>500,000+</td>\n",
       "      <td>Free</td>\n",
       "      <td>0</td>\n",
       "      <td>Everyone</td>\n",
       "      <td>Art &amp; Design;Pretend Play</td>\n",
       "      <td>January 15, 2018</td>\n",
       "      <td>2.0.0</td>\n",
       "      <td>4.0.3 and up</td>\n",
       "    </tr>\n",
       "    <tr>\n",
       "      <th>2</th>\n",
       "      <td>U Launcher Lite – FREE Live Cool Themes, Hide ...</td>\n",
       "      <td>ART_AND_DESIGN</td>\n",
       "      <td>4.7</td>\n",
       "      <td>87510</td>\n",
       "      <td>8.7M</td>\n",
       "      <td>5,000,000+</td>\n",
       "      <td>Free</td>\n",
       "      <td>0</td>\n",
       "      <td>Everyone</td>\n",
       "      <td>Art &amp; Design</td>\n",
       "      <td>August 1, 2018</td>\n",
       "      <td>1.2.4</td>\n",
       "      <td>4.0.3 and up</td>\n",
       "    </tr>\n",
       "    <tr>\n",
       "      <th>3</th>\n",
       "      <td>Sketch - Draw &amp; Paint</td>\n",
       "      <td>ART_AND_DESIGN</td>\n",
       "      <td>4.5</td>\n",
       "      <td>215644</td>\n",
       "      <td>25M</td>\n",
       "      <td>50,000,000+</td>\n",
       "      <td>Free</td>\n",
       "      <td>0</td>\n",
       "      <td>Teen</td>\n",
       "      <td>Art &amp; Design</td>\n",
       "      <td>June 8, 2018</td>\n",
       "      <td>Varies with device</td>\n",
       "      <td>4.2 and up</td>\n",
       "    </tr>\n",
       "    <tr>\n",
       "      <th>4</th>\n",
       "      <td>Pixel Draw - Number Art Coloring Book</td>\n",
       "      <td>ART_AND_DESIGN</td>\n",
       "      <td>4.3</td>\n",
       "      <td>967</td>\n",
       "      <td>2.8M</td>\n",
       "      <td>100,000+</td>\n",
       "      <td>Free</td>\n",
       "      <td>0</td>\n",
       "      <td>Everyone</td>\n",
       "      <td>Art &amp; Design;Creativity</td>\n",
       "      <td>June 20, 2018</td>\n",
       "      <td>1.1</td>\n",
       "      <td>4.4 and up</td>\n",
       "    </tr>\n",
       "    <tr>\n",
       "      <th>...</th>\n",
       "      <td>...</td>\n",
       "      <td>...</td>\n",
       "      <td>...</td>\n",
       "      <td>...</td>\n",
       "      <td>...</td>\n",
       "      <td>...</td>\n",
       "      <td>...</td>\n",
       "      <td>...</td>\n",
       "      <td>...</td>\n",
       "      <td>...</td>\n",
       "      <td>...</td>\n",
       "      <td>...</td>\n",
       "      <td>...</td>\n",
       "    </tr>\n",
       "    <tr>\n",
       "      <th>10834</th>\n",
       "      <td>FR Calculator</td>\n",
       "      <td>FAMILY</td>\n",
       "      <td>4.0</td>\n",
       "      <td>7</td>\n",
       "      <td>2.6M</td>\n",
       "      <td>500+</td>\n",
       "      <td>Free</td>\n",
       "      <td>0</td>\n",
       "      <td>Everyone</td>\n",
       "      <td>Education</td>\n",
       "      <td>June 18, 2017</td>\n",
       "      <td>1.0.0</td>\n",
       "      <td>4.1 and up</td>\n",
       "    </tr>\n",
       "    <tr>\n",
       "      <th>10836</th>\n",
       "      <td>Sya9a Maroc - FR</td>\n",
       "      <td>FAMILY</td>\n",
       "      <td>4.5</td>\n",
       "      <td>38</td>\n",
       "      <td>53M</td>\n",
       "      <td>5,000+</td>\n",
       "      <td>Free</td>\n",
       "      <td>0</td>\n",
       "      <td>Everyone</td>\n",
       "      <td>Education</td>\n",
       "      <td>July 25, 2017</td>\n",
       "      <td>1.48</td>\n",
       "      <td>4.1 and up</td>\n",
       "    </tr>\n",
       "    <tr>\n",
       "      <th>10837</th>\n",
       "      <td>Fr. Mike Schmitz Audio Teachings</td>\n",
       "      <td>FAMILY</td>\n",
       "      <td>5.0</td>\n",
       "      <td>4</td>\n",
       "      <td>3.6M</td>\n",
       "      <td>100+</td>\n",
       "      <td>Free</td>\n",
       "      <td>0</td>\n",
       "      <td>Everyone</td>\n",
       "      <td>Education</td>\n",
       "      <td>July 6, 2018</td>\n",
       "      <td>1.0</td>\n",
       "      <td>4.1 and up</td>\n",
       "    </tr>\n",
       "    <tr>\n",
       "      <th>10839</th>\n",
       "      <td>The SCP Foundation DB fr nn5n</td>\n",
       "      <td>BOOKS_AND_REFERENCE</td>\n",
       "      <td>4.5</td>\n",
       "      <td>114</td>\n",
       "      <td>Varies with device</td>\n",
       "      <td>1,000+</td>\n",
       "      <td>Free</td>\n",
       "      <td>0</td>\n",
       "      <td>Mature 17+</td>\n",
       "      <td>Books &amp; Reference</td>\n",
       "      <td>January 19, 2015</td>\n",
       "      <td>Varies with device</td>\n",
       "      <td>Varies with device</td>\n",
       "    </tr>\n",
       "    <tr>\n",
       "      <th>10840</th>\n",
       "      <td>iHoroscope - 2018 Daily Horoscope &amp; Astrology</td>\n",
       "      <td>LIFESTYLE</td>\n",
       "      <td>4.5</td>\n",
       "      <td>398307</td>\n",
       "      <td>19M</td>\n",
       "      <td>10,000,000+</td>\n",
       "      <td>Free</td>\n",
       "      <td>0</td>\n",
       "      <td>Everyone</td>\n",
       "      <td>Lifestyle</td>\n",
       "      <td>July 25, 2018</td>\n",
       "      <td>Varies with device</td>\n",
       "      <td>Varies with device</td>\n",
       "    </tr>\n",
       "  </tbody>\n",
       "</table>\n",
       "<p>9360 rows × 13 columns</p>\n",
       "</div>"
      ],
      "text/plain": [
       "                                                     App             Category  \\\n",
       "0         Photo Editor & Candy Camera & Grid & ScrapBook       ART_AND_DESIGN   \n",
       "1                                    Coloring book moana       ART_AND_DESIGN   \n",
       "2      U Launcher Lite – FREE Live Cool Themes, Hide ...       ART_AND_DESIGN   \n",
       "3                                  Sketch - Draw & Paint       ART_AND_DESIGN   \n",
       "4                  Pixel Draw - Number Art Coloring Book       ART_AND_DESIGN   \n",
       "...                                                  ...                  ...   \n",
       "10834                                      FR Calculator               FAMILY   \n",
       "10836                                   Sya9a Maroc - FR               FAMILY   \n",
       "10837                   Fr. Mike Schmitz Audio Teachings               FAMILY   \n",
       "10839                      The SCP Foundation DB fr nn5n  BOOKS_AND_REFERENCE   \n",
       "10840      iHoroscope - 2018 Daily Horoscope & Astrology            LIFESTYLE   \n",
       "\n",
       "       Rating Reviews                Size     Installs  Type Price  \\\n",
       "0         4.1     159                 19M      10,000+  Free     0   \n",
       "1         3.9     967                 14M     500,000+  Free     0   \n",
       "2         4.7   87510                8.7M   5,000,000+  Free     0   \n",
       "3         4.5  215644                 25M  50,000,000+  Free     0   \n",
       "4         4.3     967                2.8M     100,000+  Free     0   \n",
       "...       ...     ...                 ...          ...   ...   ...   \n",
       "10834     4.0       7                2.6M         500+  Free     0   \n",
       "10836     4.5      38                 53M       5,000+  Free     0   \n",
       "10837     5.0       4                3.6M         100+  Free     0   \n",
       "10839     4.5     114  Varies with device       1,000+  Free     0   \n",
       "10840     4.5  398307                 19M  10,000,000+  Free     0   \n",
       "\n",
       "      Content Rating                     Genres      Last Updated  \\\n",
       "0           Everyone               Art & Design   January 7, 2018   \n",
       "1           Everyone  Art & Design;Pretend Play  January 15, 2018   \n",
       "2           Everyone               Art & Design    August 1, 2018   \n",
       "3               Teen               Art & Design      June 8, 2018   \n",
       "4           Everyone    Art & Design;Creativity     June 20, 2018   \n",
       "...              ...                        ...               ...   \n",
       "10834       Everyone                  Education     June 18, 2017   \n",
       "10836       Everyone                  Education     July 25, 2017   \n",
       "10837       Everyone                  Education      July 6, 2018   \n",
       "10839     Mature 17+          Books & Reference  January 19, 2015   \n",
       "10840       Everyone                  Lifestyle     July 25, 2018   \n",
       "\n",
       "              Current Ver         Android Ver  \n",
       "0                   1.0.0        4.0.3 and up  \n",
       "1                   2.0.0        4.0.3 and up  \n",
       "2                   1.2.4        4.0.3 and up  \n",
       "3      Varies with device          4.2 and up  \n",
       "4                     1.1          4.4 and up  \n",
       "...                   ...                 ...  \n",
       "10834               1.0.0          4.1 and up  \n",
       "10836                1.48          4.1 and up  \n",
       "10837                 1.0          4.1 and up  \n",
       "10839  Varies with device  Varies with device  \n",
       "10840  Varies with device  Varies with device  \n",
       "\n",
       "[9360 rows x 13 columns]"
      ]
     },
     "execution_count": 4,
     "metadata": {},
     "output_type": "execute_result"
    }
   ],
   "source": [
    "data.dropna()"
   ]
  },
  {
   "cell_type": "code",
   "execution_count": 5,
   "id": "c7a463e0",
   "metadata": {
    "scrolled": true
   },
   "outputs": [],
   "source": [
    "data.fillna(0,inplace=True)"
   ]
  },
  {
   "cell_type": "code",
   "execution_count": 6,
   "id": "dafd8c80",
   "metadata": {
    "scrolled": true
   },
   "outputs": [
    {
     "data": {
      "text/plain": [
       "App               0\n",
       "Category          0\n",
       "Rating            0\n",
       "Reviews           0\n",
       "Size              0\n",
       "Installs          0\n",
       "Type              0\n",
       "Price             0\n",
       "Content Rating    0\n",
       "Genres            0\n",
       "Last Updated      0\n",
       "Current Ver       0\n",
       "Android Ver       0\n",
       "dtype: int64"
      ]
     },
     "execution_count": 6,
     "metadata": {},
     "output_type": "execute_result"
    }
   ],
   "source": [
    "data.isnull().sum()"
   ]
  },
  {
   "cell_type": "code",
   "execution_count": 7,
   "id": "5eddaa46",
   "metadata": {},
   "outputs": [],
   "source": [
    "def value_to_float(x):\n",
    "    if type(x) == object or type(x) == int:\n",
    "        return x\n",
    "    if 'K' in x:\n",
    "        if len(x) > 1:\n",
    "            return float(x.replace('K', '')) * 1000\n",
    "        return 1000.0\n",
    "    if 'M' in x:\n",
    "        if len(x) > 1:\n",
    "            return float(x.replace('M', '')) * 1000000\n",
    "        return 1000000.0\n",
    "\n",
    "data['Size'] = data['Size'].apply(value_to_float)"
   ]
  },
  {
   "cell_type": "code",
   "execution_count": 8,
   "id": "2790580a",
   "metadata": {},
   "outputs": [
    {
     "name": "stdout",
     "output_type": "stream",
     "text": [
      "Max range of apps is: 100000000.0\n"
     ]
    }
   ],
   "source": [
    "x=data['Size'].max()\n",
    "print(\"Max range of apps is:\",x)"
   ]
  },
  {
   "cell_type": "code",
   "execution_count": 9,
   "id": "8ebcf5df",
   "metadata": {
    "scrolled": true
   },
   "outputs": [],
   "source": [
    "data['Price']=data['Price'].str.replace('$','')\n",
    "data['Price'] = pd.to_numeric(data['Price'],errors = 'coerce')"
   ]
  },
  {
   "cell_type": "code",
   "execution_count": 10,
   "id": "b3ffa8b2",
   "metadata": {},
   "outputs": [
    {
     "name": "stdout",
     "output_type": "stream",
     "text": [
      "4367    I'm Rich - Trump Edition\n",
      "Name: App, dtype: object\n"
     ]
    }
   ],
   "source": [
    "x=data['App'].loc[data['Price']==400.0]\n",
    "print(x)"
   ]
  },
  {
   "cell_type": "code",
   "execution_count": 11,
   "id": "2e2c9e27",
   "metadata": {},
   "outputs": [],
   "source": [
    "data['Installs']=data['Installs'].str.replace('+','')\n",
    "data['Installs'] = data['Installs'].str.replace(',','')"
   ]
  },
  {
   "cell_type": "code",
   "execution_count": 12,
   "id": "8ce9151a",
   "metadata": {},
   "outputs": [],
   "source": [
    "data = data.drop(10472)"
   ]
  },
  {
   "cell_type": "code",
   "execution_count": 13,
   "id": "833a60c0",
   "metadata": {
    "scrolled": true
   },
   "outputs": [],
   "source": [
    "data['Installs'] = pd.to_numeric(data['Installs'])"
   ]
  },
  {
   "cell_type": "code",
   "execution_count": 14,
   "id": "27d2255c",
   "metadata": {
    "scrolled": true
   },
   "outputs": [
    {
     "name": "stdout",
     "output_type": "stream",
     "text": [
      "                                           App             Category  Rating  \\\n",
      "152                          Google Play Books  BOOKS_AND_REFERENCE     3.9   \n",
      "335   Messenger – Text and Video Chat for Free        COMMUNICATION     4.0   \n",
      "336                         WhatsApp Messenger        COMMUNICATION     4.4   \n",
      "338               Google Chrome: Fast & Secure        COMMUNICATION     4.3   \n",
      "340                                      Gmail        COMMUNICATION     4.3   \n",
      "341                                   Hangouts        COMMUNICATION     4.0   \n",
      "381                         WhatsApp Messenger        COMMUNICATION     4.4   \n",
      "382   Messenger – Text and Video Chat for Free        COMMUNICATION     4.0   \n",
      "386                                   Hangouts        COMMUNICATION     4.0   \n",
      "391              Skype - free IM & video calls        COMMUNICATION     4.1   \n",
      "411               Google Chrome: Fast & Secure        COMMUNICATION     4.3   \n",
      "451                                      Gmail        COMMUNICATION     4.3   \n",
      "464                                   Hangouts        COMMUNICATION     4.0   \n",
      "468              Skype - free IM & video calls        COMMUNICATION     4.1   \n",
      "865                          Google Play Games        ENTERTAINMENT     4.3   \n",
      "1654                            Subway Surfers                 GAME     4.5   \n",
      "1700                            Subway Surfers                 GAME     4.5   \n",
      "1750                            Subway Surfers                 GAME     4.5   \n",
      "1872                            Subway Surfers                 GAME     4.5   \n",
      "1917                            Subway Surfers                 GAME     4.5   \n",
      "\n",
      "       Reviews        Size    Installs  Type  Price Content Rating  \\\n",
      "152    1433233         NaN  1000000000  Free    0.0           Teen   \n",
      "335   56642847         NaN  1000000000  Free    0.0       Everyone   \n",
      "336   69119316         NaN  1000000000  Free    0.0       Everyone   \n",
      "338    9642995         NaN  1000000000  Free    0.0       Everyone   \n",
      "340    4604324         NaN  1000000000  Free    0.0       Everyone   \n",
      "341    3419249         NaN  1000000000  Free    0.0       Everyone   \n",
      "381   69119316         NaN  1000000000  Free    0.0       Everyone   \n",
      "382   56646578         NaN  1000000000  Free    0.0       Everyone   \n",
      "386    3419433         NaN  1000000000  Free    0.0       Everyone   \n",
      "391   10484169         NaN  1000000000  Free    0.0       Everyone   \n",
      "411    9643041         NaN  1000000000  Free    0.0       Everyone   \n",
      "451    4604483         NaN  1000000000  Free    0.0       Everyone   \n",
      "464    3419513         NaN  1000000000  Free    0.0       Everyone   \n",
      "468   10484169         NaN  1000000000  Free    0.0       Everyone   \n",
      "865    7165362         NaN  1000000000  Free    0.0           Teen   \n",
      "1654  27722264  76000000.0  1000000000  Free    0.0   Everyone 10+   \n",
      "1700  27723193  76000000.0  1000000000  Free    0.0   Everyone 10+   \n",
      "1750  27724094  76000000.0  1000000000  Free    0.0   Everyone 10+   \n",
      "1872  27725352  76000000.0  1000000000  Free    0.0   Everyone 10+   \n",
      "1917  27725352  76000000.0  1000000000  Free    0.0   Everyone 10+   \n",
      "\n",
      "                 Genres    Last Updated         Current Ver  \\\n",
      "152   Books & Reference  August 3, 2018  Varies with device   \n",
      "335       Communication  August 1, 2018  Varies with device   \n",
      "336       Communication  August 3, 2018  Varies with device   \n",
      "338       Communication  August 1, 2018  Varies with device   \n",
      "340       Communication  August 2, 2018  Varies with device   \n",
      "341       Communication   July 21, 2018  Varies with device   \n",
      "381       Communication  August 3, 2018  Varies with device   \n",
      "382       Communication  August 1, 2018  Varies with device   \n",
      "386       Communication   July 21, 2018  Varies with device   \n",
      "391       Communication  August 3, 2018  Varies with device   \n",
      "411       Communication  August 1, 2018  Varies with device   \n",
      "451       Communication  August 2, 2018  Varies with device   \n",
      "464       Communication   July 21, 2018  Varies with device   \n",
      "468       Communication  August 3, 2018  Varies with device   \n",
      "865       Entertainment   July 16, 2018  Varies with device   \n",
      "1654             Arcade   July 12, 2018              1.90.0   \n",
      "1700             Arcade   July 12, 2018              1.90.0   \n",
      "1750             Arcade   July 12, 2018              1.90.0   \n",
      "1872             Arcade   July 12, 2018              1.90.0   \n",
      "1917             Arcade   July 12, 2018              1.90.0   \n",
      "\n",
      "             Android Ver  \n",
      "152   Varies with device  \n",
      "335   Varies with device  \n",
      "336   Varies with device  \n",
      "338   Varies with device  \n",
      "340   Varies with device  \n",
      "341   Varies with device  \n",
      "381   Varies with device  \n",
      "382   Varies with device  \n",
      "386   Varies with device  \n",
      "391   Varies with device  \n",
      "411   Varies with device  \n",
      "451   Varies with device  \n",
      "464   Varies with device  \n",
      "468   Varies with device  \n",
      "865   Varies with device  \n",
      "1654          4.1 and up  \n",
      "1700          4.1 and up  \n",
      "1750          4.1 and up  \n",
      "1872          4.1 and up  \n",
      "1917          4.1 and up  \n"
     ]
    }
   ],
   "source": [
    "xy=data.nlargest(20, ['Installs'])\n",
    "print(xy)"
   ]
  },
  {
   "cell_type": "code",
   "execution_count": 15,
   "id": "3f7e2ebb",
   "metadata": {},
   "outputs": [
    {
     "name": "stdout",
     "output_type": "stream",
     "text": [
      "Top 20 Apps based on Installation\n",
      ": ['Google Play Books' 'Messenger – Text and Video Chat for Free'\n",
      " 'WhatsApp Messenger' 'Google Chrome: Fast & Secure' 'Gmail' 'Hangouts'\n",
      " 'Skype - free IM & video calls' 'Google Play Games' 'Subway Surfers'\n",
      " 'Facebook' 'Instagram' 'Google+' 'Google Photos'\n",
      " 'Maps - Navigate & Explore' 'Google Street View' 'Google' 'Google Drive'\n",
      " 'YouTube' 'Google Play Movies & TV' 'Google News']\n"
     ]
    }
   ],
   "source": [
    "x1=data['App'].loc[data['Installs']==1000000000]\n",
    "print(\"Top 20 Apps based on Installation\\n:\",x1.unique())"
   ]
  },
  {
   "cell_type": "code",
   "execution_count": null,
   "id": "1bc3e2fa",
   "metadata": {},
   "outputs": [],
   "source": []
  }
 ],
 "metadata": {
  "kernelspec": {
   "display_name": "Python 3",
   "language": "python",
   "name": "python3"
  },
  "language_info": {
   "codemirror_mode": {
    "name": "ipython",
    "version": 3
   },
   "file_extension": ".py",
   "mimetype": "text/x-python",
   "name": "python",
   "nbconvert_exporter": "python",
   "pygments_lexer": "ipython3",
   "version": "3.8.8"
  }
 },
 "nbformat": 4,
 "nbformat_minor": 5
}
